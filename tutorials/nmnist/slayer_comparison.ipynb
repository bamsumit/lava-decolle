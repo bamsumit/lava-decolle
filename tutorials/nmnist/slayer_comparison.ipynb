{
 "cells": [
  {
   "cell_type": "markdown",
   "id": "8e62b37e-35dc-45b2-a025-31cf9ee971c5",
   "metadata": {},
   "source": [
    "# N-MNIST Classification\n",
    "\n",
    "In this tutorial, we propose to train a network using per-layer local losses, as describe in [Kaiser et al. '20].\n",
    "This tutorial is based on the SLAYER N-MNIST tutorial and we refer to it for data preprocessing.\n",
    "\n",
    "NMNIST dataset is freely available [here](https://www.garrickorchard.com/datasets/n-mnist) (© CC-4.0).\n",
    "\n",
    "> Orchard, G.; Cohen, G.; Jayawant, A.; and Thakor, N. _\"Converting Static Image Datasets to Spiking Neuromorphic Datasets Using Saccades\"_,\n",
    "Frontiers in Neuroscience, vol.9, no.437, Oct. 2015\n"
   ]
  },
  {
   "cell_type": "code",
   "execution_count": 1,
   "id": "afc7d708-0431-4b60-91f0-9b30edbedac0",
   "metadata": {},
   "outputs": [],
   "source": [
    "import os\n",
    "import numpy as np\n",
    "import matplotlib.pyplot as plt\n",
    "import torch\n",
    "from torch.utils.data import DataLoader\n",
    "from tqdm import tqdm"
   ]
  },
  {
   "cell_type": "markdown",
   "id": "670955ec-b45f-4ce5-a0aa-acce71a07370",
   "metadata": {},
   "source": [
    "# Create Dataset\n",
    "\n",
    "The dataset class follows standard torch dataset definition. They are defined in `nmnist.py`. We will just import the dataset and augmentation routine here."
   ]
  },
  {
   "cell_type": "code",
   "execution_count": 2,
   "id": "892cd818",
   "metadata": {},
   "outputs": [
    {
     "name": "stdout",
     "output_type": "stream",
     "text": [
      "/users/k1804053/lava-decolle\n"
     ]
    }
   ],
   "source": [
    "from tutorials.lava.lib.dl.slayer.nmnist.nmnist import NMNISTDataset, augment"
   ]
  },
  {
   "cell_type": "code",
   "execution_count": 3,
   "id": "36ceee15-929a-43e4-a63e-57772019c1c4",
   "metadata": {},
   "outputs": [],
   "source": [
    "training_set = NMNISTDataset(train=True,\n",
    "                             transform=augment, download=True)\n",
    "testing_set  = NMNISTDataset(train=False,\n",
    "                             )\n",
    "\n",
    "train_loader = DataLoader(dataset=training_set, batch_size=256, shuffle=True)\n",
    "test_loader  = DataLoader(dataset=testing_set , batch_size=256, shuffle=True)"
   ]
  },
  {
   "cell_type": "markdown",
   "id": "a4ff3649-9c82-4fd4-bdbe-e4672f726dc7",
   "metadata": {},
   "source": [
    "# Create Networks\n",
    "\n",
    "We consider here networks of Dense cuba blocks as shown below.\n",
    "In addition to spiking blocks, DECOLLE models use fixed, readout layers to obtain per-layer errors.\n",
    "The behavior of the cuba blocks is broken down during the forward pass to obtain the voltage, which is used in the custom `DECOLLELoss`."
   ]
  },
  {
   "cell_type": "code",
   "execution_count": 4,
   "id": "4172d38f-7d39-475f-bac8-7985fb1baa53",
   "metadata": {},
   "outputs": [],
   "source": [
    "class DECOLLENetwork(torch.nn.Module):\n",
    "    def __init__(self, input_shape=34*34*2, hidden_shape=[512, 512], output_shape=10, burn_in=0):\n",
    "\n",
    "        super(DECOLLENetwork, self).__init__()\n",
    "\n",
    "        neuron_params = {\n",
    "            'threshold': 1.25,\n",
    "            'current_decay': 0.25,\n",
    "            'voltage_decay': 0.03,\n",
    "            'tau_grad': 0.03,\n",
    "            'scale_grad': 3.,\n",
    "            'requires_grad': True,\n",
    "            'persistent_state': True\n",
    "        }\n",
    "        neuron_params_drop = {**neuron_params}\n",
    "\n",
    "        self.burn_in = burn_in\n",
    "        self.blocks = torch.nn.ModuleList()\n",
    "        self.readout_layers = torch.nn.ModuleList()\n",
    "\n",
    "        hidden_shape = [input_shape] + hidden_shape\n",
    "        for i in range(len(hidden_shape)-1):\n",
    "            self.blocks.append(slayer.block.cuba.Dense(\n",
    "                neuron_params_drop, hidden_shape[i], hidden_shape[i+1],\n",
    "                weight_norm=False)\n",
    "            )\n",
    "\n",
    "            # One fixed readout per layer\n",
    "            readout = torch.nn.Linear(hidden_shape[i+1],\n",
    "                                      output_shape,\n",
    "                                      bias=False)\n",
    "            readout.weight.requires_grad = False\n",
    "            self.readout_layers.append(readout)\n",
    "\n",
    "\n",
    "    def forward(self, spike):\n",
    "        spike.requires_grad_()\n",
    "        spikes = []\n",
    "        readouts = []\n",
    "        voltages = []\n",
    "        count = []\n",
    "\n",
    "        for block in self.blocks:\n",
    "            # Decompose the behavior of the block to obtain the voltage\n",
    "            # for the regularization\n",
    "            z = block.synapse(spike.detach())\n",
    "            _, voltage = block.neuron.dynamics(z)\n",
    "            voltages.append(voltage)\n",
    "\n",
    "            spike = block.neuron.spike(voltage)\n",
    "            spikes.append(spike)\n",
    "            count.append(torch.mean(spike.detach()))\n",
    "\n",
    "        for ro, spike in zip(self.readout_layers, spikes):\n",
    "            # Compute readouts\n",
    "            readout = []\n",
    "            for t in range(spike.shape[-1]):\n",
    "                readout.append(ro(spike[..., t]))\n",
    "            readouts.append(torch.stack(readout, dim=-1))\n",
    "\n",
    "        return spikes, readouts, voltages, count\n",
    "\n",
    "    def init_state(self, inputs, burn_in=None):\n",
    "        self.reset_()\n",
    "        # initialize network state + crop inputs\n",
    "        if burn_in is None:\n",
    "            burn_in = self.burn_in\n",
    "\n",
    "        self.forward(inputs[..., :burn_in])\n",
    "        return inputs[..., burn_in:]\n",
    "\n",
    "    def reset_(self):\n",
    "        # reset the state after each example\n",
    "        for block in self.blocks:\n",
    "            block.neuron.current_state[:] = 0.\n",
    "            block.neuron.voltage_state[:] = 0.\n",
    "\n",
    "\n",
    "class SLAYERNetwork(torch.nn.Module):\n",
    "    def __init__(self):\n",
    "        super(SLAYERNetwork, self).__init__()\n",
    "\n",
    "        neuron_params = {\n",
    "                'threshold'     : 1.25,\n",
    "                'current_decay' : 0.25,\n",
    "                'voltage_decay' : 0.03,\n",
    "                'tau_grad'      : 0.03,\n",
    "                'scale_grad'    : 3,\n",
    "                'requires_grad' : True,\n",
    "            }\n",
    "        neuron_params = {**neuron_params}\n",
    "\n",
    "        self.blocks = torch.nn.ModuleList([\n",
    "                slayer.block.cuba.Dense(neuron_params, 34*34*2, 512, weight_norm=True, delay=True),\n",
    "                slayer.block.cuba.Dense(neuron_params, 512, 512, weight_norm=True, delay=True),\n",
    "                slayer.block.cuba.Dense(neuron_params, 512, 10, weight_norm=True),\n",
    "            ])\n",
    "\n",
    "    def forward(self, spike):\n",
    "        for block in self.blocks:\n",
    "            spike = block(spike)\n",
    "        return spike\n",
    "\n",
    "    def grad_flow(self, path):\n",
    "        # helps monitor the gradient flow\n",
    "        grad = [b.synapse.grad_norm for b in self.blocks if hasattr(b, 'synapse')]\n",
    "\n",
    "        plt.figure()\n",
    "        plt.semilogy(grad)\n",
    "        plt.savefig(path + 'gradFlow.png')\n",
    "        plt.close()\n",
    "\n",
    "        return grad"
   ]
  },
  {
   "cell_type": "markdown",
   "id": "7617ab25-f112-42c6-8bdd-28d0ded7ffb1",
   "metadata": {},
   "source": [
    "# Create save folder"
   ]
  },
  {
   "cell_type": "code",
   "execution_count": 5,
   "id": "54a81d43",
   "metadata": {},
   "outputs": [
    {
     "name": "stdout",
     "output_type": "stream",
     "text": [
      "\n"
     ]
    }
   ],
   "source": [
    "trained_folder = 'Trained'\n",
    "os.makedirs(trained_folder, exist_ok=True)"
   ]
  },
  {
   "cell_type": "markdown",
   "id": "9929a85d",
   "metadata": {},
   "source": [
    "# Instantiate DECOLLE Network, loss and Optimizer"
   ]
  },
  {
   "cell_type": "code",
   "execution_count": 6,
   "id": "a8ffcc61",
   "metadata": {},
   "outputs": [],
   "source": [
    "from loss import DECOLLELoss\n",
    "from utils import DECOLLEAssistant\n",
    "import lava.lib.dl.slayer as slayer\n",
    "\n",
    "device = torch.device('cuda') if torch.cuda.is_available() else torch.device('cpu')\n",
    "\n",
    "decolle_net = DECOLLENetwork(burn_in=50).to(device)\n",
    "\n",
    "error = DECOLLELoss(torch.nn.CrossEntropyLoss, reduction='mean')\n",
    "optimizer = torch.optim.Adam(decolle_net.parameters(), lr=0.0001)"
   ]
  },
  {
   "cell_type": "markdown",
   "id": "18537052",
   "metadata": {},
   "source": [
    "# Train DECOLLE Network"
   ]
  },
  {
   "cell_type": "code",
   "execution_count": 7,
   "id": "dbcbc25a-41bb-49f0-bdb7-26be901626c9",
   "metadata": {
    "scrolled": false
   },
   "outputs": [
    {
     "name": "stdout",
     "output_type": "stream",
     "text": [
      "\r",
      "[Epoch  0/20] Train "
     ]
    },
    {
     "name": "stderr",
     "output_type": "stream",
     "text": [
      "235it [08:36,  2.20s/it]\n"
     ]
    },
    {
     "name": "stdout",
     "output_type": "stream",
     "text": [
      "\r",
      "[Epoch  0/20] Train loss =   764.02687                        accuracy = 0.75162 | Test  loss =   592.39219                        accuracy = 0.86880\r",
      "[Epoch  1/20] Train "
     ]
    },
    {
     "name": "stderr",
     "output_type": "stream",
     "text": [
      "235it [08:31,  2.18s/it]\n"
     ]
    },
    {
     "name": "stdout",
     "output_type": "stream",
     "text": [
      "\r",
      "[Epoch  1/20] Train loss =   640.94514 (min =   764.02687)    accuracy = 0.86532 (max = 0.75162) | Test  loss =   539.33538 (min =   592.39219)    accuracy = 0.89810 (max = 0.86880)\r",
      "[Epoch  2/20] Train "
     ]
    },
    {
     "name": "stderr",
     "output_type": "stream",
     "text": [
      "235it [08:36,  2.20s/it]\n"
     ]
    },
    {
     "name": "stdout",
     "output_type": "stream",
     "text": [
      "\r",
      "[Epoch  2/20] Train loss =   607.61697 (min =   640.94514)    accuracy = 0.88555 (max = 0.86532) | Test  loss =   516.96430 (min =   539.33538)    accuracy = 0.91980 (max = 0.89810)\r",
      "[Epoch  3/20] Train "
     ]
    },
    {
     "name": "stderr",
     "output_type": "stream",
     "text": [
      "235it [08:47,  2.25s/it]\n"
     ]
    },
    {
     "name": "stdout",
     "output_type": "stream",
     "text": [
      "\r",
      "[Epoch  3/20] Train loss =   589.13406 (min =   607.61697)    accuracy = 0.89637 (max = 0.88555) | Test  loss =   500.18560 (min =   516.96430)    accuracy = 0.91610 (max = 0.91980)\r",
      "[Epoch  4/20] Train "
     ]
    },
    {
     "name": "stderr",
     "output_type": "stream",
     "text": [
      "235it [08:40,  2.21s/it]\n"
     ]
    },
    {
     "name": "stdout",
     "output_type": "stream",
     "text": [
      "\r",
      "[Epoch  4/20] Train loss =   577.19156 (min =   589.13406)    accuracy = 0.90173 (max = 0.89637) | Test  loss =   492.23828 (min =   500.18560)    accuracy = 0.91960 (max = 0.91980)\r",
      "                                                                                                                                                                                       \n",
      "[Epoch  4/20]\n",
      "Train loss =   577.19156 (min =   589.13406)    accuracy = 0.90173 (max = 0.89637) \n",
      "Test  loss =   492.23828 (min =   500.18560)    accuracy = 0.91960 (max = 0.91980)\n",
      "\r",
      "[Epoch  5/20] Train "
     ]
    },
    {
     "name": "stderr",
     "output_type": "stream",
     "text": [
      "235it [08:38,  2.21s/it]\n"
     ]
    },
    {
     "name": "stdout",
     "output_type": "stream",
     "text": [
      "\r",
      "[Epoch  5/20] Train loss =   569.50233 (min =   577.19156)    accuracy = 0.90502 (max = 0.90173) | Test  loss =   484.85376 (min =   492.23828)    accuracy = 0.91880 (max = 0.91980)\r",
      "[Epoch  6/20] Train "
     ]
    },
    {
     "name": "stderr",
     "output_type": "stream",
     "text": [
      "235it [08:41,  2.22s/it]\n"
     ]
    },
    {
     "name": "stdout",
     "output_type": "stream",
     "text": [
      "\r",
      "[Epoch  6/20] Train loss =   562.47554 (min =   569.50233)    accuracy = 0.90775 (max = 0.90502) | Test  loss =   477.11961 (min =   484.85376)    accuracy = 0.92380 (max = 0.91980)\r",
      "[Epoch  7/20] Train "
     ]
    },
    {
     "name": "stderr",
     "output_type": "stream",
     "text": [
      "235it [08:32,  2.18s/it]\n"
     ]
    },
    {
     "name": "stdout",
     "output_type": "stream",
     "text": [
      "\r",
      "[Epoch  7/20] Train loss =   556.74244 (min =   562.47554)    accuracy = 0.91193 (max = 0.90775) | Test  loss =   467.38764 (min =   477.11961)    accuracy = 0.93530 (max = 0.92380)\r",
      "[Epoch  8/20] Train "
     ]
    },
    {
     "name": "stderr",
     "output_type": "stream",
     "text": [
      "235it [08:24,  2.15s/it]\n"
     ]
    },
    {
     "name": "stdout",
     "output_type": "stream",
     "text": [
      "\r",
      "[Epoch  8/20] Train loss =   553.54201 (min =   556.74244)    accuracy = 0.91098 (max = 0.91193) | Test  loss =   465.56484 (min =   467.38764)    accuracy = 0.93560 (max = 0.93530)\r",
      "[Epoch  9/20] Train "
     ]
    },
    {
     "name": "stderr",
     "output_type": "stream",
     "text": [
      "235it [08:27,  2.16s/it]\n"
     ]
    },
    {
     "name": "stdout",
     "output_type": "stream",
     "text": [
      "\r",
      "[Epoch  9/20] Train loss =   549.41556 (min =   553.54201)    accuracy = 0.91237 (max = 0.91193) | Test  loss =   460.55082 (min =   465.56484)    accuracy = 0.94030 (max = 0.93560)\r",
      "                                                                                                                                                                                       \n",
      "[Epoch  9/20]\n",
      "Train loss =   549.41556 (min =   553.54201)    accuracy = 0.91237 (max = 0.91193) \n",
      "Test  loss =   460.55082 (min =   465.56484)    accuracy = 0.94030 (max = 0.93560)\n",
      "\r",
      "[Epoch 10/20] Train "
     ]
    },
    {
     "name": "stderr",
     "output_type": "stream",
     "text": [
      "235it [08:37,  2.20s/it]\n"
     ]
    },
    {
     "name": "stdout",
     "output_type": "stream",
     "text": [
      "\r",
      "[Epoch 10/20] Train loss =   546.81684 (min =   549.41556)    accuracy = 0.91495 (max = 0.91237) | Test  loss =   457.10074 (min =   460.55082)    accuracy = 0.93800 (max = 0.94030)\r",
      "[Epoch 11/20] Train "
     ]
    },
    {
     "name": "stderr",
     "output_type": "stream",
     "text": [
      "235it [08:34,  2.19s/it]\n"
     ]
    },
    {
     "name": "stdout",
     "output_type": "stream",
     "text": [
      "\r",
      "[Epoch 11/20] Train loss =   543.61899 (min =   546.81684)    accuracy = 0.91510 (max = 0.91495) | Test  loss =   457.85228 (min =   457.10074)    accuracy = 0.93370 (max = 0.94030)\r",
      "[Epoch 12/20] Train "
     ]
    },
    {
     "name": "stderr",
     "output_type": "stream",
     "text": [
      "235it [08:39,  2.21s/it]\n"
     ]
    },
    {
     "name": "stdout",
     "output_type": "stream",
     "text": [
      "\r",
      "[Epoch 12/20] Train loss =   541.39537 (min =   543.61899)    accuracy = 0.91482 (max = 0.91510) | Test  loss =   454.82574 (min =   457.10074)    accuracy = 0.93430 (max = 0.94030)\r",
      "[Epoch 13/20] Train "
     ]
    },
    {
     "name": "stderr",
     "output_type": "stream",
     "text": [
      "235it [08:48,  2.25s/it]\n"
     ]
    },
    {
     "name": "stdout",
     "output_type": "stream",
     "text": [
      "\r",
      "[Epoch 13/20] Train loss =   540.17901 (min =   541.39537)    accuracy = 0.91557 (max = 0.91510) | Test  loss =   450.59478 (min =   454.82574)    accuracy = 0.94200 (max = 0.94030)\r",
      "[Epoch 14/20] Train "
     ]
    },
    {
     "name": "stderr",
     "output_type": "stream",
     "text": [
      "235it [08:49,  2.25s/it]\n"
     ]
    },
    {
     "name": "stdout",
     "output_type": "stream",
     "text": [
      "\r",
      "[Epoch 14/20] Train loss =   538.37806 (min =   540.17901)    accuracy = 0.91695 (max = 0.91557) | Test  loss =   448.53329 (min =   450.59478)    accuracy = 0.94110 (max = 0.94200)\r",
      "                                                                                                                                                                                       \n",
      "[Epoch 14/20]\n",
      "Train loss =   538.37806 (min =   540.17901)    accuracy = 0.91695 (max = 0.91557) \n",
      "Test  loss =   448.53329 (min =   450.59478)    accuracy = 0.94110 (max = 0.94200)\n",
      "\r",
      "[Epoch 15/20] Train "
     ]
    },
    {
     "name": "stderr",
     "output_type": "stream",
     "text": [
      "235it [09:00,  2.30s/it]\n"
     ]
    },
    {
     "name": "stdout",
     "output_type": "stream",
     "text": [
      "\r",
      "[Epoch 15/20] Train loss =   537.31247 (min =   538.37806)    accuracy = 0.91818 (max = 0.91695) | Test  loss =   449.27621 (min =   448.53329)    accuracy = 0.93870 (max = 0.94200)\r",
      "[Epoch 16/20] Train "
     ]
    },
    {
     "name": "stderr",
     "output_type": "stream",
     "text": [
      "235it [09:01,  2.30s/it]\n"
     ]
    },
    {
     "name": "stdout",
     "output_type": "stream",
     "text": [
      "\r",
      "[Epoch 16/20] Train loss =   535.98403 (min =   537.31247)    accuracy = 0.91650 (max = 0.91818) | Test  loss =   445.47902 (min =   448.53329)    accuracy = 0.94390 (max = 0.94200)\r",
      "[Epoch 17/20] Train "
     ]
    },
    {
     "name": "stderr",
     "output_type": "stream",
     "text": [
      "235it [08:34,  2.19s/it]\n"
     ]
    },
    {
     "name": "stdout",
     "output_type": "stream",
     "text": [
      "\r",
      "[Epoch 17/20] Train loss =   533.83632 (min =   535.98403)    accuracy = 0.91825 (max = 0.91818) | Test  loss =   443.35828 (min =   445.47902)    accuracy = 0.94470 (max = 0.94390)\r",
      "[Epoch 18/20] Train "
     ]
    },
    {
     "name": "stderr",
     "output_type": "stream",
     "text": [
      "235it [08:39,  2.21s/it]\n"
     ]
    },
    {
     "name": "stdout",
     "output_type": "stream",
     "text": [
      "\r",
      "[Epoch 18/20] Train loss =   533.41385 (min =   533.83632)    accuracy = 0.91803 (max = 0.91825) | Test  loss =   444.30186 (min =   443.35828)    accuracy = 0.94320 (max = 0.94470)\r",
      "[Epoch 19/20] Train "
     ]
    },
    {
     "name": "stderr",
     "output_type": "stream",
     "text": [
      "235it [08:31,  2.18s/it]\n"
     ]
    },
    {
     "name": "stdout",
     "output_type": "stream",
     "text": [
      "\r",
      "[Epoch 19/20] Train loss =   532.45950 (min =   533.41385)    accuracy = 0.91792 (max = 0.91825) | Test  loss =   441.15609 (min =   443.35828)    accuracy = 0.94580 (max = 0.94470)\r",
      "                                                                                                                                                                                       \n",
      "[Epoch 19/20]\n",
      "Train loss =   532.45950 (min =   533.41385)    accuracy = 0.91792 (max = 0.91825) \n",
      "Test  loss =   441.15609 (min =   443.35828)    accuracy = 0.94580 (max = 0.94470)\n"
     ]
    }
   ],
   "source": [
    "training_mode = 'online' # either 'online' or 'batch'\n",
    "\n",
    "decolle_stats = slayer.utils.LearningStats()\n",
    "decolle_assistant = DECOLLEAssistant(decolle_net, error, optimizer, decolle_stats,\n",
    "                             classifier=slayer.classifier.Rate.predict, count_log=True)\n",
    "\n",
    "epochs = 20\n",
    "\n",
    "for epoch in range(epochs):\n",
    "    train_iter = iter(train_loader)\n",
    "    print(f'\\r[Epoch {epoch:2d}/{epochs}] {decolle_stats}', end='')\n",
    "\n",
    "    for i, (inputs, label) in tqdm(enumerate(train_iter)):  # training loop\n",
    "        output, count = decolle_assistant.train(inputs, label)\n",
    "    \n",
    "    test_iter = iter(test_loader) \n",
    "    for i, (inputs, label) in enumerate(test_iter):  # testing loop\n",
    "        output, count = decolle_assistant.test(inputs, label)\n",
    "    print(f'\\r[Epoch {epoch:2d}/{epochs}] {decolle_stats}', end='')\n",
    "\n",
    "    if epoch%5 == 4: # cleanup display\n",
    "        print('\\r', ' '*len(f'\\r[Epoch {epoch:2d}/{epochs}] {decolle_stats}'))\n",
    "        stats_str = str(decolle_stats).replace(\"| \", \"\\n\")\n",
    "        print(f'[Epoch {epoch:2d}/{epochs}]\\n{stats_str}')\n",
    "\n",
    "    if decolle_stats.testing.best_accuracy:\n",
    "        torch.save(decolle_net.state_dict(), trained_folder + '/decolle_network.pt')\n",
    "    decolle_stats.update()"
   ]
  },
  {
   "cell_type": "markdown",
   "id": "b29679a3",
   "metadata": {},
   "source": [
    "# Instantiate SLAYER Network, loss and Optimizer"
   ]
  },
  {
   "cell_type": "code",
   "execution_count": 8,
   "id": "0ccc1637",
   "metadata": {},
   "outputs": [],
   "source": [
    "from lava.lib.dl.slayer.loss import SpikeMax\n",
    "from lava.lib.dl.slayer.utils import Assistant\n",
    "import lava.lib.dl.slayer as slayer\n",
    "\n",
    "trained_folder = 'Trained'\n",
    "os.makedirs(trained_folder, exist_ok=True)\n",
    "\n",
    "slayer_net = SLAYERNetwork().to(device)\n",
    "\n",
    "error = slayer.loss.SpikeRate(true_rate=0.2, false_rate=0.03, reduction='sum').to(device)\n",
    "optimizer = torch.optim.Adam(slayer_net.parameters(), lr=0.001)\n",
    "\n",
    "slayer_stats = slayer.utils.LearningStats()\n",
    "slayer_assistant = Assistant(slayer_net, error, optimizer, slayer_stats,\n",
    "                             classifier=slayer.classifier.Rate.predict, count_log=False)"
   ]
  },
  {
   "cell_type": "markdown",
   "id": "67fd1851",
   "metadata": {},
   "source": [
    "# Train SLAYER Network"
   ]
  },
  {
   "cell_type": "code",
   "execution_count": 9,
   "id": "70751ff8",
   "metadata": {},
   "outputs": [
    {
     "name": "stdout",
     "output_type": "stream",
     "text": [
      "\r",
      "[Epoch  0/20] Train "
     ]
    },
    {
     "name": "stderr",
     "output_type": "stream",
     "text": [
      "235it [05:34,  1.42s/it]\n"
     ]
    },
    {
     "name": "stdout",
     "output_type": "stream",
     "text": [
      "\r",
      "[Epoch  0/20] Train loss =     5.22568                        accuracy = 0.62427 | Test  loss =     2.97529                        accuracy = 0.85760\r",
      "[Epoch  1/20] Train "
     ]
    },
    {
     "name": "stderr",
     "output_type": "stream",
     "text": [
      "235it [05:33,  1.42s/it]\n"
     ]
    },
    {
     "name": "stdout",
     "output_type": "stream",
     "text": [
      "\r",
      "[Epoch  1/20] Train loss =     2.56041 (min =     5.22568)    accuracy = 0.86528 (max = 0.62427) | Test  loss =     1.74208 (min =     2.97529)    accuracy = 0.93220 (max = 0.85760)\r",
      "[Epoch  2/20] Train "
     ]
    },
    {
     "name": "stderr",
     "output_type": "stream",
     "text": [
      "235it [05:27,  1.39s/it]\n"
     ]
    },
    {
     "name": "stdout",
     "output_type": "stream",
     "text": [
      "\r",
      "[Epoch  2/20] Train loss =     2.06411 (min =     2.56041)    accuracy = 0.90322 (max = 0.86528) | Test  loss =     1.45982 (min =     1.74208)    accuracy = 0.94390 (max = 0.93220)\r",
      "[Epoch  3/20] Train "
     ]
    },
    {
     "name": "stderr",
     "output_type": "stream",
     "text": [
      "235it [05:28,  1.40s/it]\n"
     ]
    },
    {
     "name": "stdout",
     "output_type": "stream",
     "text": [
      "\r",
      "[Epoch  3/20] Train loss =     1.82621 (min =     2.06411)    accuracy = 0.91563 (max = 0.90322) | Test  loss =     1.70084 (min =     1.45982)    accuracy = 0.92890 (max = 0.94390)\r",
      "[Epoch  4/20] Train "
     ]
    },
    {
     "name": "stderr",
     "output_type": "stream",
     "text": [
      "235it [05:26,  1.39s/it]\n"
     ]
    },
    {
     "name": "stdout",
     "output_type": "stream",
     "text": [
      "\r",
      "[Epoch  4/20] Train loss =     1.58953 (min =     1.82621)    accuracy = 0.92802 (max = 0.91563) | Test  loss =     1.18124 (min =     1.45982)    accuracy = 0.95310 (max = 0.94390)\r",
      "                                                                                                                                                                                       \n",
      "[Epoch  4/20]\n",
      "Train loss =     1.58953 (min =     1.82621)    accuracy = 0.92802 (max = 0.91563) \n",
      "Test  loss =     1.18124 (min =     1.45982)    accuracy = 0.95310 (max = 0.94390)\n",
      "\r",
      "[Epoch  5/20] Train "
     ]
    },
    {
     "name": "stderr",
     "output_type": "stream",
     "text": [
      "235it [05:25,  1.39s/it]\n"
     ]
    },
    {
     "name": "stdout",
     "output_type": "stream",
     "text": [
      "\r",
      "[Epoch  5/20] Train loss =     1.49063 (min =     1.58953)    accuracy = 0.93463 (max = 0.92802) | Test  loss =     1.36059 (min =     1.18124)    accuracy = 0.94210 (max = 0.95310)\r",
      "[Epoch  6/20] Train "
     ]
    },
    {
     "name": "stderr",
     "output_type": "stream",
     "text": [
      "235it [05:25,  1.39s/it]\n"
     ]
    },
    {
     "name": "stdout",
     "output_type": "stream",
     "text": [
      "\r",
      "[Epoch  6/20] Train loss =     1.34254 (min =     1.49063)    accuracy = 0.93940 (max = 0.93463) | Test  loss =     1.09462 (min =     1.18124)    accuracy = 0.95810 (max = 0.95310)\r",
      "[Epoch  7/20] Train "
     ]
    },
    {
     "name": "stderr",
     "output_type": "stream",
     "text": [
      "235it [05:27,  1.40s/it]\n"
     ]
    },
    {
     "name": "stdout",
     "output_type": "stream",
     "text": [
      "\r",
      "[Epoch  7/20] Train loss =     1.29828 (min =     1.34254)    accuracy = 0.94258 (max = 0.93940) | Test  loss =     0.97840 (min =     1.09462)    accuracy = 0.96060 (max = 0.95810)\r",
      "[Epoch  8/20] Train "
     ]
    },
    {
     "name": "stderr",
     "output_type": "stream",
     "text": [
      "235it [05:28,  1.40s/it]\n"
     ]
    },
    {
     "name": "stdout",
     "output_type": "stream",
     "text": [
      "\r",
      "[Epoch  8/20] Train loss =     1.23929 (min =     1.29828)    accuracy = 0.94517 (max = 0.94258) | Test  loss =     0.96501 (min =     0.97840)    accuracy = 0.96310 (max = 0.96060)\r",
      "[Epoch  9/20] Train "
     ]
    },
    {
     "name": "stderr",
     "output_type": "stream",
     "text": [
      "235it [05:26,  1.39s/it]\n"
     ]
    },
    {
     "name": "stdout",
     "output_type": "stream",
     "text": [
      "\r",
      "[Epoch  9/20] Train loss =     1.19338 (min =     1.23929)    accuracy = 0.94867 (max = 0.94517) | Test  loss =     0.99833 (min =     0.96501)    accuracy = 0.96490 (max = 0.96310)\r",
      "                                                                                                                                                                                       \n",
      "[Epoch  9/20]\n",
      "Train loss =     1.19338 (min =     1.23929)    accuracy = 0.94867 (max = 0.94517) \n",
      "Test  loss =     0.99833 (min =     0.96501)    accuracy = 0.96490 (max = 0.96310)\n",
      "\r",
      "[Epoch 10/20] Train "
     ]
    },
    {
     "name": "stderr",
     "output_type": "stream",
     "text": [
      "235it [05:38,  1.44s/it]\n"
     ]
    },
    {
     "name": "stdout",
     "output_type": "stream",
     "text": [
      "\r",
      "[Epoch 10/20] Train loss =     1.12592 (min =     1.19338)    accuracy = 0.95152 (max = 0.94867) | Test  loss =     0.83228 (min =     0.96501)    accuracy = 0.96760 (max = 0.96490)\r",
      "[Epoch 11/20] Train "
     ]
    },
    {
     "name": "stderr",
     "output_type": "stream",
     "text": [
      "235it [05:28,  1.40s/it]\n"
     ]
    },
    {
     "name": "stdout",
     "output_type": "stream",
     "text": [
      "\r",
      "[Epoch 11/20] Train loss =     1.12349 (min =     1.12592)    accuracy = 0.95288 (max = 0.95152) | Test  loss =     0.89050 (min =     0.83228)    accuracy = 0.96700 (max = 0.96760)\r",
      "[Epoch 12/20] Train "
     ]
    },
    {
     "name": "stderr",
     "output_type": "stream",
     "text": [
      "235it [05:28,  1.40s/it]\n"
     ]
    },
    {
     "name": "stdout",
     "output_type": "stream",
     "text": [
      "\r",
      "[Epoch 12/20] Train loss =     1.13501 (min =     1.12349)    accuracy = 0.95158 (max = 0.95288) | Test  loss =     0.92761 (min =     0.83228)    accuracy = 0.96610 (max = 0.96760)\r",
      "[Epoch 13/20] Train "
     ]
    },
    {
     "name": "stderr",
     "output_type": "stream",
     "text": [
      "235it [05:29,  1.40s/it]\n"
     ]
    },
    {
     "name": "stdout",
     "output_type": "stream",
     "text": [
      "\r",
      "[Epoch 13/20] Train loss =     1.12430 (min =     1.12349)    accuracy = 0.95325 (max = 0.95288) | Test  loss =     0.95303 (min =     0.83228)    accuracy = 0.96680 (max = 0.96760)\r",
      "[Epoch 14/20] Train "
     ]
    },
    {
     "name": "stderr",
     "output_type": "stream",
     "text": [
      "235it [05:30,  1.40s/it]\n"
     ]
    },
    {
     "name": "stdout",
     "output_type": "stream",
     "text": [
      "\r",
      "[Epoch 14/20] Train loss =     1.10426 (min =     1.12349)    accuracy = 0.95322 (max = 0.95325) | Test  loss =     0.86120 (min =     0.83228)    accuracy = 0.96650 (max = 0.96760)\r",
      "                                                                                                                                                                                       \n",
      "[Epoch 14/20]\n",
      "Train loss =     1.10426 (min =     1.12349)    accuracy = 0.95322 (max = 0.95325) \n",
      "Test  loss =     0.86120 (min =     0.83228)    accuracy = 0.96650 (max = 0.96760)\n",
      "\r",
      "[Epoch 15/20] Train "
     ]
    },
    {
     "name": "stderr",
     "output_type": "stream",
     "text": [
      "235it [05:29,  1.40s/it]\n"
     ]
    },
    {
     "name": "stdout",
     "output_type": "stream",
     "text": [
      "\r",
      "[Epoch 15/20] Train loss =     1.10759 (min =     1.10426)    accuracy = 0.95468 (max = 0.95325) | Test  loss =     0.89688 (min =     0.83228)    accuracy = 0.97030 (max = 0.96760)\r",
      "[Epoch 16/20] Train "
     ]
    },
    {
     "name": "stderr",
     "output_type": "stream",
     "text": [
      "235it [05:32,  1.42s/it]\n"
     ]
    },
    {
     "name": "stdout",
     "output_type": "stream",
     "text": [
      "\r",
      "[Epoch 16/20] Train loss =     1.06839 (min =     1.10426)    accuracy = 0.95645 (max = 0.95468) | Test  loss =     1.10316 (min =     0.83228)    accuracy = 0.96920 (max = 0.97030)\r",
      "[Epoch 17/20] Train "
     ]
    },
    {
     "name": "stderr",
     "output_type": "stream",
     "text": [
      "235it [05:35,  1.43s/it]\n"
     ]
    },
    {
     "name": "stdout",
     "output_type": "stream",
     "text": [
      "\r",
      "[Epoch 17/20] Train loss =     1.02727 (min =     1.06839)    accuracy = 0.95708 (max = 0.95645) | Test  loss =     0.77002 (min =     0.83228)    accuracy = 0.96780 (max = 0.97030)\r",
      "[Epoch 18/20] Train "
     ]
    },
    {
     "name": "stderr",
     "output_type": "stream",
     "text": [
      "235it [05:33,  1.42s/it]\n"
     ]
    },
    {
     "name": "stdout",
     "output_type": "stream",
     "text": [
      "\r",
      "[Epoch 18/20] Train loss =     1.01767 (min =     1.02727)    accuracy = 0.95730 (max = 0.95708) | Test  loss =     0.97973 (min =     0.77002)    accuracy = 0.97230 (max = 0.97030)\r",
      "[Epoch 19/20] Train "
     ]
    },
    {
     "name": "stderr",
     "output_type": "stream",
     "text": [
      "235it [05:37,  1.44s/it]\n"
     ]
    },
    {
     "name": "stdout",
     "output_type": "stream",
     "text": [
      "\r",
      "[Epoch 19/20] Train loss =     1.00424 (min =     1.01767)    accuracy = 0.95955 (max = 0.95730) | Test  loss =     0.76721 (min =     0.77002)    accuracy = 0.97250 (max = 0.97230)\r",
      "                                                                                                                                                                                       \n",
      "[Epoch 19/20]\n",
      "Train loss =     1.00424 (min =     1.01767)    accuracy = 0.95955 (max = 0.95730) \n",
      "Test  loss =     0.76721 (min =     0.77002)    accuracy = 0.97250 (max = 0.97230)\n"
     ]
    }
   ],
   "source": [
    "epochs = 20\n",
    "\n",
    "for epoch in range(epochs):\n",
    "    train_iter = iter(train_loader)\n",
    "    print(f'\\r[Epoch {epoch:2d}/{epochs}] {slayer_stats}', end='')\n",
    "    \n",
    "    for i, (inputs, label) in tqdm(enumerate(train_iter)):  # training loop\n",
    "        output = slayer_assistant.train(inputs, label)\n",
    "        \n",
    "    test_iter = iter(test_loader)\n",
    "    for i, (inputs, label) in enumerate(test_iter):  # testing loop\n",
    "        output = slayer_assistant.test(inputs, label)\n",
    "    print(f'\\r[Epoch {epoch:2d}/{epochs}] {slayer_stats}', end='')\n",
    "        \n",
    "    if epoch%5 == 4: # cleanup display\n",
    "        print('\\r', ' '*len(f'\\r[Epoch {epoch:2d}/{epochs}] {slayer_stats}'))\n",
    "        stats_str = str(slayer_stats).replace(\"| \", \"\\n\")\n",
    "        print(f'[Epoch {epoch:2d}/{epochs}]\\n{stats_str}')\n",
    "    \n",
    "    if slayer_stats.testing.best_accuracy:\n",
    "        torch.save(slayer_net.state_dict(), trained_folder + '/slayer_network.pt')\n",
    "    slayer_stats.update()"
   ]
  },
  {
   "cell_type": "markdown",
   "id": "854daacd-5ea4-46fd-befd-b0918b26bda3",
   "metadata": {},
   "source": [
    "# Plot the learning curves"
   ]
  },
  {
   "cell_type": "code",
   "execution_count": 10,
   "id": "aa466a37",
   "metadata": {},
   "outputs": [
    {
     "data": {
      "image/png": "[encoded data removed]",
      "text/plain": [
       "<Figure size 1500x500 with 1 Axes>"
      ]
     },
     "metadata": {},
     "output_type": "display_data"
    },
    {
     "data": {
      "image/png": "[encoded data removed]",
      "text/plain": [
       "<Figure size 1500x500 with 1 Axes>"
      ]
     },
     "metadata": {},
     "output_type": "display_data"
    }
   ],
   "source": [
    "decolle_stats.plot(figsize=(15, 5))"
   ]
  },
  {
   "cell_type": "code",
   "execution_count": 11,
   "id": "be59928f-4da2-4055-8802-71216003bf0c",
   "metadata": {},
   "outputs": [
    {
     "data": {
      "image/png": "[encoded data removed]",
      "text/plain": [
       "<Figure size 1500x500 with 1 Axes>"
      ]
     },
     "metadata": {},
     "output_type": "display_data"
    },
    {
     "data": {
      "image/png": "[encoded data removed]",
      "text/plain": [
       "<Figure size 1500x500 with 1 Axes>"
      ]
     },
     "metadata": {},
     "output_type": "display_data"
    }
   ],
   "source": [
    "slayer_stats.plot(figsize=(15, 5))"
   ]
  }
 ],
 "metadata": {
  "kernelspec": {
   "display_name": "Python 3 (ipykernel)",
   "language": "python",
   "name": "python3"
  },
  "language_info": {
   "codemirror_mode": {
    "name": "ipython",
    "version": 3
   },
   "file_extension": ".py",
   "mimetype": "text/x-python",
   "name": "python",
   "nbconvert_exporter": "python",
   "pygments_lexer": "ipython3",
   "version": "3.9.13"
  }
 },
 "nbformat": 4,
 "nbformat_minor": 5
}
